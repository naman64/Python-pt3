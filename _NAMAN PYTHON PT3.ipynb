{
 "cells": [
  {
   "cell_type": "markdown",
   "metadata": {},
   "source": [
    "# Theoretical Questions:\n",
    "## QUES1. What is the syntax to call a constructor of a base class from child class \n",
    "### ANS: it can be called using the super() command\n",
    "## QUES2. How is a class made as inherited class (syntax of child class)\n",
    "### ANS: class Parent:\n",
    "###                  pass\n",
    "###           class Child(Parent):\n",
    "###                  pass\n",
    "## QUES 3:Print an element of a nested dictionary\n",
    "### ANS:\n"
   ]
  },
  {
   "cell_type": "code",
   "execution_count": 13,
   "metadata": {},
   "outputs": [
    {
     "name": "stdout",
     "output_type": "stream",
     "text": [
      "A\n",
      "2004\n"
     ]
    }
   ],
   "source": [
    "myfamily={\n",
    "          1:{\"name\":\"A\",\"year\":2004},\n",
    "          2:{\"name\":\"B\",\"year\":2008}\n",
    "        }\n",
    "print(myfamily[1][\"name\"])\n",
    "print(myfamily[1][\"year\"])"
   ]
  },
  {
   "cell_type": "markdown",
   "metadata": {},
   "source": [
    "# SET C"
   ]
  },
  {
   "cell_type": "code",
   "execution_count": 5,
   "metadata": {},
   "outputs": [
    {
     "name": "stdout",
     "output_type": "stream",
     "text": [
      "Enter 1st value:8\n",
      "Enter 2nd value:4\n",
      "Enter 3rd value:4\n",
      "The value of square root (( 2*value1*value2)/value3) from above entered values is : 4.0\n"
     ]
    }
   ],
   "source": [
    "#QUES1. Write a program that calculates and prints the value according to the formula given \n",
    "#below. Take three values from user. Q= square root (( 2*value1*value2)/value3)\n",
    "import math\n",
    "value1=float(input(\"Enter 1st value:\"))\n",
    "value2=float(input(\"Enter 2nd value:\"))\n",
    "value3=float(input(\"Enter 3rd value:\"))\n",
    "Q=math.sqrt(( 2*value1*value2)/value3)  #using math.sqrt() function\n",
    "print(\"The value of square root (( 2*value1*value2)/value3) from above entered values is :\",Q)"
   ]
  },
  {
   "cell_type": "code",
   "execution_count": 1,
   "metadata": {},
   "outputs": [
    {
     "name": "stdout",
     "output_type": "stream",
     "text": [
      "Enter a string:N1A2M3A4N5\n",
      "The elemnets present at the even indexes of the entered string are as follow:\n",
      "N\n",
      "A\n",
      "M\n",
      "A\n",
      "N\n",
      "The string formed after combining the characters of the of the entered string at even indexes is: NAMAN\n"
     ]
    }
   ],
   "source": [
    "#QUES2. Please write a program which accepts a string from console and print the character that have even indexes. \n",
    "str1=input(\"Enter a string:\")\n",
    "str2=\"\"\n",
    "print(\"The elemnets present at the even indexes of the entered string are as follow:\")\n",
    "for i in range (0,len(str1)):\n",
    "    if i%2==0:\n",
    "        print(str1[i])\n",
    "        str2+=str1[i]\n",
    "print(\"The string formed after combining the characters of the of the entered string at even indexes is:\",str2)"
   ]
  },
  {
   "cell_type": "code",
   "execution_count": null,
   "metadata": {},
   "outputs": [],
   "source": []
  }
 ],
 "metadata": {
  "kernelspec": {
   "display_name": "Python 3",
   "language": "python",
   "name": "python3"
  },
  "language_info": {
   "codemirror_mode": {
    "name": "ipython",
    "version": 3
   },
   "file_extension": ".py",
   "mimetype": "text/x-python",
   "name": "python",
   "nbconvert_exporter": "python",
   "pygments_lexer": "ipython3",
   "version": "3.7.4"
  }
 },
 "nbformat": 4,
 "nbformat_minor": 2
}
